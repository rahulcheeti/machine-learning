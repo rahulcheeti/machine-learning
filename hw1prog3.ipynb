{
  "nbformat": 4,
  "nbformat_minor": 0,
  "metadata": {
    "colab": {
      "name": "hw1prog3",
      "version": "0.3.2",
      "provenance": [],
      "collapsed_sections": [],
      "include_colab_link": true
    },
    "kernelspec": {
      "name": "python3",
      "display_name": "Python 3"
    }
  },
  "cells": [
    {
      "cell_type": "markdown",
      "metadata": {
        "id": "view-in-github",
        "colab_type": "text"
      },
      "source": [
        "<a href=\"https://colab.research.google.com/github/rahulcheeti/machine-learning/blob/master/hw1prog3.ipynb\" target=\"_parent\"><img src=\"https://colab.research.google.com/assets/colab-badge.svg\" alt=\"Open In Colab\"/></a>"
      ]
    },
    {
      "metadata": {
        "id": "1CXG5xjlUpfp",
        "colab_type": "code",
        "colab": {
          "base_uri": "https://localhost:8080/",
          "height": 102
        },
        "outputId": "a39436d3-285b-4b4e-9d91-c5ca2f3017e4"
      },
      "cell_type": "code",
      "source": [
        "import keras\n",
        "import numpy as np\n",
        "from keras.datasets import mnist\n",
        "import math\n",
        "\n",
        "lear_rate = 0.005\n",
        "batch_size = 100\n",
        "experiments = 40\n",
        "\n",
        "# the data, split between train and test sets\n",
        "(x_train, y_train), (x_test, y_test) = mnist.load_data()\n",
        "\n",
        "x_train = (x_train.reshape(x_train.shape[0],x_train.shape[1]*x_train.shape[2]))\n",
        "y_train = (keras.utils.to_categorical(y_train,10))\n",
        "\n",
        "x_test = (x_test.reshape(x_test.shape[0],x_test.shape[1]*x_test.shape[2]))\n",
        "y_te = y_test\n",
        "y_test = (keras.utils.to_categorical(y_test,10))\n",
        "\n",
        "x_train = x_train.astype('float32')\n",
        "x_test = x_test.astype('float32')\n",
        "x_train /= 255\n",
        "x_test /= 255\n",
        "\n",
        "print(x_train.shape)\n",
        "print(y_train.shape)\n",
        "print(x_test.shape)\n",
        "print(y_test.shape)\n",
        "print(y_te.shape)"
      ],
      "execution_count": 43,
      "outputs": [
        {
          "output_type": "stream",
          "text": [
            "(60000, 784)\n",
            "(60000, 10)\n",
            "(10000, 784)\n",
            "(10000, 10)\n",
            "(10000,)\n"
          ],
          "name": "stdout"
        }
      ]
    },
    {
      "metadata": {
        "id": "6-FEzufCVA4I",
        "colab_type": "code",
        "colab": {}
      },
      "cell_type": "code",
      "source": [
        "def initialize_parameters():\n",
        "  W = (np.random.randn(10,784))*0.01\n",
        "  b = (np.random.randn(10,1))*0.01\n",
        "  return W,b"
      ],
      "execution_count": 0,
      "outputs": []
    },
    {
      "metadata": {
        "id": "FNiUuqEsapH6",
        "colab_type": "code",
        "colab": {}
      },
      "cell_type": "code",
      "source": [
        "def softmax(input):\n",
        "  sumer = np.sum(np.exp(input), axis = 0, keepdims = True)\n",
        "  output = np.exp(input)/sumer  \n",
        "  return output"
      ],
      "execution_count": 0,
      "outputs": []
    },
    {
      "metadata": {
        "id": "0ZvSXEPsVM1v",
        "colab_type": "code",
        "colab": {}
      },
      "cell_type": "code",
      "source": [
        "def forward_propagation(W,b,x):\n",
        "  part1 = np.dot(W,np.transpose(x)) + b\n",
        "  part2 = softmax(part1)\n",
        "  return part2"
      ],
      "execution_count": 0,
      "outputs": []
    },
    {
      "metadata": {
        "id": "5Nsdg0vfVYpP",
        "colab_type": "code",
        "colab": {}
      },
      "cell_type": "code",
      "source": [
        "def backward_propagation(x,y,output,W,b,lear_rate,batch_size):\n",
        "  der_z = output - np.transpose(y)\n",
        "  der_W = np.dot(der_z,x)\n",
        "  der_b = np.sum(der_z, axis = 1, keepdims = True)\n",
        "  W = W - lear_rate*der_W\n",
        "  b = b - lear_rate*der_b\n",
        "  return W, b"
      ],
      "execution_count": 0,
      "outputs": []
    },
    {
      "metadata": {
        "id": "1nqBtZhwpoa6",
        "colab_type": "code",
        "outputId": "be5b91dc-5f7b-43e4-e9ec-93d577e5863f",
        "colab": {
          "base_uri": "https://localhost:8080/",
          "height": 153
        }
      },
      "cell_type": "code",
      "source": [
        "W,b = initialize_parameters()\n",
        "output = forward_propagation(W,b,x_train[0:60000])\n",
        "W,b = backward_propagation(x_train[0:60000],y_train[0:60000],output,W,b,lear_rate,batch_size)\n",
        "out = forward_propagation(W,b,x_test)\n",
        "out = np.transpose(out)\n",
        "out_list = []\n",
        "\n",
        "for i in range(10000):\n",
        "  out_list.append(np.argmax(out[i]))\n",
        "count = 0\n",
        "for i in range(10000):\n",
        "  if out_list[i] == y_te[i]:\n",
        "    count += 1\n",
        "out_list = []\n",
        "acc = count/100\n",
        "print(count,\"/10000\")\n",
        "print(\"accuracy:\",acc)\n"
      ],
      "execution_count": 40,
      "outputs": [
        {
          "output_type": "stream",
          "text": [
            "4973 /10000\n",
            "accuracy: 49.73\n"
          ],
          "name": "stdout"
        },
        {
          "output_type": "stream",
          "text": [
            "/usr/local/lib/python3.6/dist-packages/ipykernel_launcher.py:2: RuntimeWarning: overflow encountered in exp\n",
            "  \n",
            "/usr/local/lib/python3.6/dist-packages/ipykernel_launcher.py:3: RuntimeWarning: overflow encountered in exp\n",
            "  This is separate from the ipykernel package so we can avoid doing imports until\n",
            "/usr/local/lib/python3.6/dist-packages/ipykernel_launcher.py:3: RuntimeWarning: invalid value encountered in true_divide\n",
            "  This is separate from the ipykernel package so we can avoid doing imports until\n"
          ],
          "name": "stderr"
        }
      ]
    },
    {
      "metadata": {
        "id": "r9WkxtrXVdKU",
        "colab_type": "code",
        "outputId": "72b7c685-e27c-494d-9385-41320b7a7420",
        "colab": {
          "base_uri": "https://localhost:8080/",
          "height": 2057
        }
      },
      "cell_type": "code",
      "source": [
        "W,b = initialize_parameters()\n",
        "for j in range(experiments):\n",
        "  for i in range(0, len(x_train), batch_size):\n",
        "    output = forward_propagation(W,b,x_train[i:i+batch_size])\n",
        "    W,b = backward_propagation(x_train[i:i+batch_size],y_train[i:i+batch_size],output,W,b,lear_rate,batch_size)\n",
        "    #output = forward_propagation(W,b,x_train[0:60000])\n",
        "    #W,b = backward_propagation(x_train[0:60000],y_train[0:60000],output,W,b,lear_rate,batch_size)\n",
        "  out = forward_propagation(W,b,x_test)\n",
        "  out = np.transpose(out)\n",
        "  out_list = list()\n",
        "  for i in range(10000):\n",
        "    out_list.append(np.argmax(out[i]))\n",
        "  count = 0\n",
        "  for i in range(10000):\n",
        "    if out_list[i] == y_te[i]:\n",
        "      count += 1\n",
        "  out_list = []\n",
        "  acc = count/100\n",
        "  print(\"epoch:\",j)\n",
        "  print(count,\"/10000\")\n",
        "  print(\"accuracy:\",acc)\n"
      ],
      "execution_count": 42,
      "outputs": [
        {
          "output_type": "stream",
          "text": [
            "epoch: 0\n",
            "9056 /10000\n",
            "accuracy: 90.56\n",
            "epoch: 1\n",
            "9096 /10000\n",
            "accuracy: 90.96\n",
            "epoch: 2\n",
            "9110 /10000\n",
            "accuracy: 91.1\n",
            "epoch: 3\n",
            "9127 /10000\n",
            "accuracy: 91.27\n",
            "epoch: 4\n",
            "9146 /10000\n",
            "accuracy: 91.46\n",
            "epoch: 5\n",
            "9150 /10000\n",
            "accuracy: 91.5\n",
            "epoch: 6\n",
            "9152 /10000\n",
            "accuracy: 91.52\n",
            "epoch: 7\n",
            "9153 /10000\n",
            "accuracy: 91.53\n",
            "epoch: 8\n",
            "9155 /10000\n",
            "accuracy: 91.55\n",
            "epoch: 9\n",
            "9156 /10000\n",
            "accuracy: 91.56\n",
            "epoch: 10\n",
            "9157 /10000\n",
            "accuracy: 91.57\n",
            "epoch: 11\n",
            "9158 /10000\n",
            "accuracy: 91.58\n",
            "epoch: 12\n",
            "9161 /10000\n",
            "accuracy: 91.61\n",
            "epoch: 13\n",
            "9164 /10000\n",
            "accuracy: 91.64\n",
            "epoch: 14\n",
            "9167 /10000\n",
            "accuracy: 91.67\n",
            "epoch: 15\n",
            "9170 /10000\n",
            "accuracy: 91.7\n",
            "epoch: 16\n",
            "9172 /10000\n",
            "accuracy: 91.72\n",
            "epoch: 17\n",
            "9170 /10000\n",
            "accuracy: 91.7\n",
            "epoch: 18\n",
            "9171 /10000\n",
            "accuracy: 91.71\n",
            "epoch: 19\n",
            "9173 /10000\n",
            "accuracy: 91.73\n",
            "epoch: 20\n",
            "9168 /10000\n",
            "accuracy: 91.68\n",
            "epoch: 21\n",
            "9169 /10000\n",
            "accuracy: 91.69\n",
            "epoch: 22\n",
            "9169 /10000\n",
            "accuracy: 91.69\n",
            "epoch: 23\n",
            "9171 /10000\n",
            "accuracy: 91.71\n",
            "epoch: 24\n",
            "9172 /10000\n",
            "accuracy: 91.72\n",
            "epoch: 25\n",
            "9172 /10000\n",
            "accuracy: 91.72\n",
            "epoch: 26\n",
            "9175 /10000\n",
            "accuracy: 91.75\n",
            "epoch: 27\n",
            "9176 /10000\n",
            "accuracy: 91.76\n",
            "epoch: 28\n",
            "9174 /10000\n",
            "accuracy: 91.74\n",
            "epoch: 29\n",
            "9173 /10000\n",
            "accuracy: 91.73\n",
            "epoch: 30\n",
            "9171 /10000\n",
            "accuracy: 91.71\n",
            "epoch: 31\n",
            "9172 /10000\n",
            "accuracy: 91.72\n",
            "epoch: 32\n",
            "9174 /10000\n",
            "accuracy: 91.74\n",
            "epoch: 33\n",
            "9175 /10000\n",
            "accuracy: 91.75\n",
            "epoch: 34\n",
            "9177 /10000\n",
            "accuracy: 91.77\n",
            "epoch: 35\n",
            "9175 /10000\n",
            "accuracy: 91.75\n",
            "epoch: 36\n",
            "9176 /10000\n",
            "accuracy: 91.76\n",
            "epoch: 37\n",
            "9175 /10000\n",
            "accuracy: 91.75\n",
            "epoch: 38\n",
            "9177 /10000\n",
            "accuracy: 91.77\n",
            "epoch: 39\n",
            "9177 /10000\n",
            "accuracy: 91.77\n"
          ],
          "name": "stdout"
        }
      ]
    }
  ]
}