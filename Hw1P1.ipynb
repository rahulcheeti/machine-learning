{
  "nbformat": 4,
  "nbformat_minor": 0,
  "metadata": {
    "colab": {
      "name": "Untitled",
      "version": "0.3.2",
      "provenance": [],
      "collapsed_sections": [],
      "include_colab_link": true
    },
    "kernelspec": {
      "name": "python3",
      "display_name": "Python 3"
    },
    "accelerator": "GPU"
  },
  "cells": [
    {
      "cell_type": "markdown",
      "metadata": {
        "id": "view-in-github",
        "colab_type": "text"
      },
      "source": [
        "<a href=\"https://colab.research.google.com/github/rahulcheeti/machine-learning/blob/master/Hw1P1.ipynb\" target=\"_parent\"><img src=\"https://colab.research.google.com/assets/colab-badge.svg\" alt=\"Open In Colab\"/></a>"
      ]
    },
    {
      "metadata": {
        "id": "fZB-hwHD1I3r",
        "colab_type": "code",
        "outputId": "75af2fb9-6feb-4add-a871-a45a6a1ba51e",
        "colab": {
          "base_uri": "https://localhost:8080/",
          "height": 119
        }
      },
      "cell_type": "code",
      "source": [
        "from __future__ import print_function\n",
        "import keras\n",
        "import numpy as np\n",
        "from keras.datasets import mnist\n",
        "from keras.models import Sequential\n",
        "from keras.layers import Dense, Dropout, Flatten\n",
        "from keras.layers import Conv2D, MaxPooling2D\n",
        "from keras import backend as K\n",
        "import matplotlib.pyplot as plt\n",
        "import math\n",
        "\n",
        "lear_rate = 0.01\n",
        "\n",
        "# input image dimensions\n",
        "img_rows, img_cols = 28, 28\n",
        "\n",
        "# the data, split between train and test sets\n",
        "(x_train, y_train), (x_test, y_test) = mnist.load_data()\n",
        "\n",
        "\n",
        "x_train = np.transpose(x_train.reshape(x_train.shape[0],x_train.shape[1]*x_train.shape[2]))\n",
        "y_train = np.transpose(keras.utils.to_categorical(y_train,10))\n",
        "\n",
        "x_test = np.transpose(x_test.reshape(x_test.shape[0],x_test.shape[1]*x_test.shape[2]))\n",
        "y_test = np.transpose(keras.utils.to_categorical(y_test,10))\n",
        "\n",
        "print(x_train.shape)\n",
        "print(y_train.shape)\n",
        "print(y_train[:][1])\n",
        "\n",
        "x_train = x_train.astype('float32')\n",
        "x_test = x_test.astype('float32')\n",
        "x_train /= 255\n",
        "x_test /= 255\n",
        "print('x_train shape:', x_train.shape)\n",
        "print(x_train.shape[1], 'train samples')\n",
        "print(x_test.shape[1], 'test samples')\n"
      ],
      "execution_count": 163,
      "outputs": [
        {
          "output_type": "stream",
          "text": [
            "(784, 60000)\n",
            "(10, 60000)\n",
            "[0. 0. 0. ... 0. 0. 0.]\n",
            "x_train shape: (784, 60000)\n",
            "60000 train samples\n",
            "10000 test samples\n"
          ],
          "name": "stdout"
        }
      ]
    },
    {
      "metadata": {
        "id": "GAU-nYDYu_GX",
        "colab_type": "code",
        "colab": {}
      },
      "cell_type": "code",
      "source": [
        "def initialize_parameters():\n",
        "  W = np.random.randn(10,784)*0.01\n",
        "  b = np.random.randn(10,1)\n",
        "  return W,b"
      ],
      "execution_count": 0,
      "outputs": []
    },
    {
      "metadata": {
        "id": "Q8oKMyM9wIty",
        "colab_type": "code",
        "colab": {}
      },
      "cell_type": "code",
      "source": [
        "def forward_propagation(W,b,x_train):\n",
        "  output = np.dot(W,x_train) + (b)\n",
        "  output = sigmoid(output)\n",
        "  return output"
      ],
      "execution_count": 0,
      "outputs": []
    },
    {
      "metadata": {
        "id": "aDXpF8_wzfoi",
        "colab_type": "code",
        "colab": {}
      },
      "cell_type": "code",
      "source": [
        "def sigmoid(x): \n",
        "  z = 1/(1+np.exp(-x))\n",
        "  return z"
      ],
      "execution_count": 0,
      "outputs": []
    },
    {
      "metadata": {
        "id": "lSJ3GZLF05P4",
        "colab_type": "code",
        "colab": {}
      },
      "cell_type": "code",
      "source": [
        "def loss_function(y_train,output):\n",
        "  loss = np.sum(np.multiply((y_train - output),(y_train - output))/2,axis=1,keepdims=True)/len(y_train[0])\n",
        "  return loss"
      ],
      "execution_count": 0,
      "outputs": []
    },
    {
      "metadata": {
        "id": "YbvR3s8cO0wN",
        "colab_type": "code",
        "colab": {}
      },
      "cell_type": "code",
      "source": [
        "def backward_propagation(x_train,y_train,output,W,b,lear_rate):\n",
        "  \n",
        "  der_loss = np.sum(abs(y_train - output), axis = 1, keepdims = True)\n",
        "  der_sig = sigmoid(output)*(1 - sigmoid(output))\n",
        "  der_z = np.multiply(der_loss,der_sig)\n",
        "  der_W = np.dot(der_z,np.transpose(x_train))\n",
        "  der_b = np.sum(der_z,axis=1,keepdims=True)\n",
        "  W = W - lear_rate*der_W\n",
        "  b = b - lear_rate*der_b\n",
        "  return W,b\n",
        " \n",
        "  \n",
        "  "
      ],
      "execution_count": 0,
      "outputs": []
    },
    {
      "metadata": {
        "id": "1B-X6iIjzEoU",
        "colab_type": "code",
        "outputId": "4f7ddcf2-4772-4f1d-bf76-c40438ea0a11",
        "colab": {
          "base_uri": "https://localhost:8080/",
          "height": 402
        }
      },
      "cell_type": "code",
      "source": [
        "W,b = initialize_parameters()\n",
        "for i in range(10):\n",
        "  output = forward_propagation(W,b,x_train)\n",
        "  W,b = backward_propagation(x_train,y_train,output,W,b,lear_rate)\n",
        "loss = loss_function(y_train,output)\n",
        "print(loss)\n",
        "output = forward_propagation(W,b,x_train)\n",
        "output = math.ceil(output+.5)\n"
      ],
      "execution_count": 164,
      "outputs": [
        {
          "output_type": "stream",
          "text": [
            "/usr/local/lib/python3.6/dist-packages/ipykernel_launcher.py:2: RuntimeWarning: overflow encountered in exp\n",
            "  \n"
          ],
          "name": "stderr"
        },
        {
          "output_type": "stream",
          "text": [
            "[[0.04935833]\n",
            " [0.05618333]\n",
            " [0.04965   ]\n",
            " [0.05109167]\n",
            " [0.04868333]\n",
            " [0.045175  ]\n",
            " [0.04931667]\n",
            " [0.05220833]\n",
            " [0.04875833]\n",
            " [0.049575  ]]\n"
          ],
          "name": "stdout"
        },
        {
          "output_type": "error",
          "ename": "TypeError",
          "evalue": "ignored",
          "traceback": [
            "\u001b[0;31m---------------------------------------------------------------------------\u001b[0m",
            "\u001b[0;31mTypeError\u001b[0m                                 Traceback (most recent call last)",
            "\u001b[0;32m<ipython-input-164-91592ada529f>\u001b[0m in \u001b[0;36m<module>\u001b[0;34m()\u001b[0m\n\u001b[1;32m      6\u001b[0m \u001b[0mprint\u001b[0m\u001b[0;34m(\u001b[0m\u001b[0mloss\u001b[0m\u001b[0;34m)\u001b[0m\u001b[0;34m\u001b[0m\u001b[0;34m\u001b[0m\u001b[0m\n\u001b[1;32m      7\u001b[0m \u001b[0moutput\u001b[0m \u001b[0;34m=\u001b[0m \u001b[0mforward_propagation\u001b[0m\u001b[0;34m(\u001b[0m\u001b[0mW\u001b[0m\u001b[0;34m,\u001b[0m\u001b[0mb\u001b[0m\u001b[0;34m,\u001b[0m\u001b[0mx_train\u001b[0m\u001b[0;34m)\u001b[0m\u001b[0;34m\u001b[0m\u001b[0;34m\u001b[0m\u001b[0m\n\u001b[0;32m----> 8\u001b[0;31m \u001b[0moutput\u001b[0m \u001b[0;34m=\u001b[0m \u001b[0mmath\u001b[0m\u001b[0;34m.\u001b[0m\u001b[0mceil\u001b[0m\u001b[0;34m(\u001b[0m\u001b[0moutput\u001b[0m\u001b[0;34m+\u001b[0m\u001b[0;36m.5\u001b[0m\u001b[0;34m)\u001b[0m\u001b[0;34m\u001b[0m\u001b[0;34m\u001b[0m\u001b[0m\n\u001b[0m",
            "\u001b[0;31mTypeError\u001b[0m: only size-1 arrays can be converted to Python scalars"
          ]
        }
      ]
    }
  ]
}