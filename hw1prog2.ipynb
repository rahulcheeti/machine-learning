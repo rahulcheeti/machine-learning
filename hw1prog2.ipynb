{
  "nbformat": 4,
  "nbformat_minor": 0,
  "metadata": {
    "colab": {
      "name": "hw1prog2",
      "version": "0.3.2",
      "provenance": [],
      "collapsed_sections": [],
      "include_colab_link": true
    },
    "kernelspec": {
      "name": "python3",
      "display_name": "Python 3"
    },
    "accelerator": "GPU"
  },
  "cells": [
    {
      "cell_type": "markdown",
      "metadata": {
        "id": "view-in-github",
        "colab_type": "text"
      },
      "source": [
        "<a href=\"https://colab.research.google.com/github/rahulcheeti/machine-learning/blob/master/hw1prog2.ipynb\" target=\"_parent\"><img src=\"https://colab.research.google.com/assets/colab-badge.svg\" alt=\"Open In Colab\"/></a>"
      ]
    },
    {
      "metadata": {
        "id": "fZB-hwHD1I3r",
        "colab_type": "code",
        "colab": {}
      },
      "cell_type": "code",
      "source": [
        "import keras\n",
        "import numpy as np\n",
        "from keras.datasets import mnist\n",
        "import math\n",
        "\n",
        "lear_rate = 0.005\n",
        "batch_size = 100\n",
        "experiments = 40\n",
        "\n",
        "# the data, split between train and test sets\n",
        "(x_train, y_train), (x_test, y_test) = mnist.load_data()\n",
        "\n",
        "x_train = (x_train.reshape(x_train.shape[0],x_train.shape[1]*x_train.shape[2]))\n",
        "y_train = (keras.utils.to_categorical(y_train,10))\n",
        "\n",
        "x_test = (x_test.reshape(x_test.shape[0],x_test.shape[1]*x_test.shape[2]))\n",
        "y_te = y_test\n",
        "y_test = (keras.utils.to_categorical(y_test,10))\n",
        "\n",
        "x_train = x_train.astype('float32')\n",
        "x_test = x_test.astype('float32')\n",
        "x_train /= 255\n",
        "x_test /= 255\n"
      ],
      "execution_count": 0,
      "outputs": []
    },
    {
      "metadata": {
        "id": "GAU-nYDYu_GX",
        "colab_type": "code",
        "colab": {}
      },
      "cell_type": "code",
      "source": [
        "def initialize_parameters():\n",
        "  W = np.random.randn(10,784)*0.01\n",
        "  b = np.random.randn(10,1)\n",
        "  return W,b"
      ],
      "execution_count": 0,
      "outputs": []
    },
    {
      "metadata": {
        "id": "Q8oKMyM9wIty",
        "colab_type": "code",
        "colab": {}
      },
      "cell_type": "code",
      "source": [
        "def forward_propagation(W,b,x):\n",
        "  output = np.dot(W,np.transpose(x)) + (b)\n",
        "  output = sigmoid(output)\n",
        "  return output"
      ],
      "execution_count": 0,
      "outputs": []
    },
    {
      "metadata": {
        "id": "aDXpF8_wzfoi",
        "colab_type": "code",
        "colab": {}
      },
      "cell_type": "code",
      "source": [
        "def sigmoid(x): \n",
        "  z = 1/(1+np.exp(-x))\n",
        "  return z  "
      ],
      "execution_count": 0,
      "outputs": []
    },
    {
      "metadata": {
        "id": "lSJ3GZLF05P4",
        "colab_type": "code",
        "colab": {}
      },
      "cell_type": "code",
      "source": [
        "def loss_function(y_train,output):\n",
        "  loss = np.sum(np.multiply(np.transpose(y_train),np.log(output))+np.multiply(np.transpose(y_train),np.log(output)),axis=1,keepdims=True)/batch_size\n",
        "  return loss"
      ],
      "execution_count": 0,
      "outputs": []
    },
    {
      "metadata": {
        "id": "YbvR3s8cO0wN",
        "colab_type": "code",
        "colab": {}
      },
      "cell_type": "code",
      "source": [
        "def backward_propagation(x_train,y_train,output,W,b,lear_rate,batch_size):\n",
        "  \n",
        "  der_loss = output - np.transpose(y_train)\n",
        "  der_z = der_loss\n",
        "  der_W = np.dot(der_z,x_train)\n",
        "  der_b = np.sum(der_z,axis=1,keepdims=True)\n",
        "  W = W - lear_rate*der_W\n",
        "  b = b - lear_rate*der_b\n",
        "  return W,b"
      ],
      "execution_count": 0,
      "outputs": []
    },
    {
      "metadata": {
        "id": "1B-X6iIjzEoU",
        "colab_type": "code",
        "outputId": "15a92a9b-3c05-4da2-f294-b39ada3b8c1e",
        "colab": {
          "base_uri": "https://localhost:8080/",
          "height": 2057
        }
      },
      "cell_type": "code",
      "source": [
        "W,b = initialize_parameters()\n",
        "for j in range(experiments):\n",
        "  for i in range(0, x_train.shape[0], batch_size):\n",
        "    output = forward_propagation(W,b,x_train[i:i+batch_size])\n",
        "    W,b = backward_propagation(x_train[i:i+batch_size],y_train[i:i+batch_size],output,W,b,lear_rate,batch_size)\n",
        "  out = forward_propagation(W,b,x_test)\n",
        "  out = np.transpose(out)\n",
        "  out_list = list()\n",
        "  for i in range(10000):\n",
        "    out_list.append(np.argmax(out[i]))\n",
        "  count = 0\n",
        "  for i in range(10000):\n",
        "    if out_list[i] == y_te[i]:\n",
        "      count += 1\n",
        "  out_list = []\n",
        "  acc = count/100\n",
        "  print(\"epoch:\",j)\n",
        "  print(count,\"/10000\")\n",
        "  print(\"accuracy:\",acc)\n",
        "\n",
        "\n",
        "\n"
      ],
      "execution_count": 24,
      "outputs": [
        {
          "output_type": "stream",
          "text": [
            "epoch: 0\n",
            "9018 /10000\n",
            "accuracy: 90.18\n",
            "epoch: 1\n",
            "9077 /10000\n",
            "accuracy: 90.77\n",
            "epoch: 2\n",
            "9100 /10000\n",
            "accuracy: 91.0\n",
            "epoch: 3\n",
            "9105 /10000\n",
            "accuracy: 91.05\n",
            "epoch: 4\n",
            "9103 /10000\n",
            "accuracy: 91.03\n",
            "epoch: 5\n",
            "9099 /10000\n",
            "accuracy: 90.99\n",
            "epoch: 6\n",
            "9102 /10000\n",
            "accuracy: 91.02\n",
            "epoch: 7\n",
            "9105 /10000\n",
            "accuracy: 91.05\n",
            "epoch: 8\n",
            "9105 /10000\n",
            "accuracy: 91.05\n",
            "epoch: 9\n",
            "9111 /10000\n",
            "accuracy: 91.11\n",
            "epoch: 10\n",
            "9115 /10000\n",
            "accuracy: 91.15\n",
            "epoch: 11\n",
            "9115 /10000\n",
            "accuracy: 91.15\n",
            "epoch: 12\n",
            "9120 /10000\n",
            "accuracy: 91.2\n",
            "epoch: 13\n",
            "9127 /10000\n",
            "accuracy: 91.27\n",
            "epoch: 14\n",
            "9127 /10000\n",
            "accuracy: 91.27\n",
            "epoch: 15\n",
            "9125 /10000\n",
            "accuracy: 91.25\n",
            "epoch: 16\n",
            "9127 /10000\n",
            "accuracy: 91.27\n",
            "epoch: 17\n",
            "9128 /10000\n",
            "accuracy: 91.28\n",
            "epoch: 18\n",
            "9129 /10000\n",
            "accuracy: 91.29\n",
            "epoch: 19\n",
            "9132 /10000\n",
            "accuracy: 91.32\n",
            "epoch: 20\n",
            "9137 /10000\n",
            "accuracy: 91.37\n",
            "epoch: 21\n",
            "9138 /10000\n",
            "accuracy: 91.38\n",
            "epoch: 22\n",
            "9139 /10000\n",
            "accuracy: 91.39\n",
            "epoch: 23\n",
            "9139 /10000\n",
            "accuracy: 91.39\n",
            "epoch: 24\n",
            "9138 /10000\n",
            "accuracy: 91.38\n",
            "epoch: 25\n",
            "9138 /10000\n",
            "accuracy: 91.38\n",
            "epoch: 26\n",
            "9136 /10000\n",
            "accuracy: 91.36\n",
            "epoch: 27\n",
            "9136 /10000\n",
            "accuracy: 91.36\n",
            "epoch: 28\n",
            "9138 /10000\n",
            "accuracy: 91.38\n",
            "epoch: 29\n",
            "9137 /10000\n",
            "accuracy: 91.37\n",
            "epoch: 30\n",
            "9138 /10000\n",
            "accuracy: 91.38\n",
            "epoch: 31\n",
            "9138 /10000\n",
            "accuracy: 91.38\n",
            "epoch: 32\n",
            "9138 /10000\n",
            "accuracy: 91.38\n",
            "epoch: 33\n",
            "9138 /10000\n",
            "accuracy: 91.38\n",
            "epoch: 34\n",
            "9137 /10000\n",
            "accuracy: 91.37\n",
            "epoch: 35\n",
            "9137 /10000\n",
            "accuracy: 91.37\n",
            "epoch: 36\n",
            "9136 /10000\n",
            "accuracy: 91.36\n",
            "epoch: 37\n",
            "9136 /10000\n",
            "accuracy: 91.36\n",
            "epoch: 38\n",
            "9138 /10000\n",
            "accuracy: 91.38\n",
            "epoch: 39\n",
            "9137 /10000\n",
            "accuracy: 91.37\n"
          ],
          "name": "stdout"
        }
      ]
    }
  ]
}