{
  "nbformat": 4,
  "nbformat_minor": 0,
  "metadata": {
    "colab": {
      "name": "hw1prog4",
      "version": "0.3.2",
      "provenance": [],
      "include_colab_link": true
    },
    "kernelspec": {
      "name": "python3",
      "display_name": "Python 3"
    }
  },
  "cells": [
    {
      "cell_type": "markdown",
      "metadata": {
        "id": "view-in-github",
        "colab_type": "text"
      },
      "source": [
        "<a href=\"https://colab.research.google.com/github/rahulcheeti/machine-learning/blob/master/hw1prog4.ipynb\" target=\"_parent\"><img src=\"https://colab.research.google.com/assets/colab-badge.svg\" alt=\"Open In Colab\"/></a>"
      ]
    },
    {
      "metadata": {
        "id": "dDhUIsVN642X",
        "colab_type": "code",
        "colab": {
          "base_uri": "https://localhost:8080/",
          "height": 1537
        },
        "outputId": "2288147d-9094-4134-d6b3-5052e7072ff6"
      },
      "cell_type": "code",
      "source": [
        "from __future__ import print_function\n",
        "import keras\n",
        "from keras.datasets import mnist\n",
        "from keras.models import Sequential\n",
        "from keras.layers import Dense\n",
        "from keras import backend as K\n",
        "import matplotlib.pyplot as plt\n",
        "\n",
        "batch_size = 128\n",
        "num_classes = 10\n",
        "epochs = 30\n",
        "\n",
        "# input image dimensions\n",
        "img_rows, img_cols = 28, 28\n",
        "\n",
        "# the data, split between train and test sets\n",
        "(x_train, y_train), (x_test, y_test) = mnist.load_data()\n",
        "\n",
        "x_train = (x_train.reshape(x_train.shape[0],x_train.shape[1]*x_train.shape[2]))\n",
        "x_test = (x_test.reshape(x_test.shape[0],x_test.shape[1]*x_test.shape[2]))\n",
        "\n",
        "x_train = x_train.astype('float32')\n",
        "x_test = x_test.astype('float32')\n",
        "x_train /= 255\n",
        "x_test /= 255\n",
        "print('x_train shape:', x_train.shape)\n",
        "print(x_train.shape[0], 'train samples')\n",
        "print(x_test.shape[0], 'test samples')\n",
        "\n",
        "# convert class vectors to binary class matrices\n",
        "y_train = keras.utils.to_categorical(y_train, num_classes)\n",
        "y_test = keras.utils.to_categorical(y_test, num_classes)\n",
        "\n",
        "#Lenet-5 model\n",
        "model = Sequential()\n",
        "#Layer 1\n",
        "\n",
        "model.add(Dense(units = 10, activation = 'softmax'))\n",
        "\n",
        "lear_rate = 0.05\n",
        "\n",
        "sgd = keras.optimizers.SGD(lr=lear_rate)\n",
        "model.compile(loss=keras.losses.categorical_crossentropy,\n",
        "              optimizer=sgd,\n",
        "              metrics=['accuracy'])\n",
        "\n",
        "History = model.fit(x_train, y_train,\n",
        "          batch_size=batch_size,\n",
        "          epochs=epochs,\n",
        "          verbose=1,\n",
        "          validation_data=(x_test, y_test))\n",
        "score = model.evaluate(x_test, y_test, verbose=0)\n",
        "print('Test loss:', score[0])\n",
        "print('Test accuracy:', score[1])\n",
        "print(score)\n",
        "print(History.history)\n",
        "\n",
        "plotaccuracy = plt.plot(range(1,31),History.history['acc'],range(1,31),History.history['val_acc'])\n",
        "plt.xlabel('epoch')\n",
        "plt.ylabel('accuracy')\n",
        "plt.legend(('Train Accuracy','Test Accuracy'))\n",
        "plt.show(plotaccuracy)"
      ],
      "execution_count": 22,
      "outputs": [
        {
          "output_type": "stream",
          "text": [
            "x_train shape: (60000, 784)\n",
            "60000 train samples\n",
            "10000 test samples\n",
            "Train on 60000 samples, validate on 10000 samples\n",
            "Epoch 1/30\n",
            "60000/60000 [==============================] - 2s 27us/step - loss: 0.7131 - acc: 0.8301 - val_loss: 0.4489 - val_acc: 0.8860\n",
            "Epoch 2/30\n",
            "60000/60000 [==============================] - 1s 20us/step - loss: 0.4312 - acc: 0.8861 - val_loss: 0.3797 - val_acc: 0.8991\n",
            "Epoch 3/30\n",
            "60000/60000 [==============================] - 1s 20us/step - loss: 0.3853 - acc: 0.8952 - val_loss: 0.3522 - val_acc: 0.9057\n",
            "Epoch 4/30\n",
            "60000/60000 [==============================] - 1s 19us/step - loss: 0.3619 - acc: 0.9001 - val_loss: 0.3366 - val_acc: 0.9086\n",
            "Epoch 5/30\n",
            "60000/60000 [==============================] - 1s 19us/step - loss: 0.3471 - acc: 0.9039 - val_loss: 0.3247 - val_acc: 0.9118\n",
            "Epoch 6/30\n",
            "60000/60000 [==============================] - 1s 19us/step - loss: 0.3365 - acc: 0.9061 - val_loss: 0.3164 - val_acc: 0.9136\n",
            "Epoch 7/30\n",
            "60000/60000 [==============================] - 1s 19us/step - loss: 0.3286 - acc: 0.9085 - val_loss: 0.3102 - val_acc: 0.9160\n",
            "Epoch 8/30\n",
            "60000/60000 [==============================] - 1s 20us/step - loss: 0.3221 - acc: 0.9103 - val_loss: 0.3056 - val_acc: 0.9162\n",
            "Epoch 9/30\n",
            "60000/60000 [==============================] - 1s 20us/step - loss: 0.3169 - acc: 0.9118 - val_loss: 0.3020 - val_acc: 0.9164\n",
            "Epoch 10/30\n",
            "60000/60000 [==============================] - 1s 19us/step - loss: 0.3126 - acc: 0.9131 - val_loss: 0.2993 - val_acc: 0.9172\n",
            "Epoch 11/30\n",
            "60000/60000 [==============================] - 1s 19us/step - loss: 0.3086 - acc: 0.9141 - val_loss: 0.2972 - val_acc: 0.9183\n",
            "Epoch 12/30\n",
            "60000/60000 [==============================] - 1s 19us/step - loss: 0.3055 - acc: 0.9149 - val_loss: 0.2942 - val_acc: 0.9186\n",
            "Epoch 13/30\n",
            "60000/60000 [==============================] - 1s 19us/step - loss: 0.3026 - acc: 0.9158 - val_loss: 0.2919 - val_acc: 0.9200\n",
            "Epoch 14/30\n",
            "60000/60000 [==============================] - 1s 18us/step - loss: 0.3000 - acc: 0.9167 - val_loss: 0.2904 - val_acc: 0.9198\n",
            "Epoch 15/30\n",
            "60000/60000 [==============================] - 1s 19us/step - loss: 0.2976 - acc: 0.9171 - val_loss: 0.2885 - val_acc: 0.9192\n",
            "Epoch 16/30\n",
            "60000/60000 [==============================] - 1s 19us/step - loss: 0.2956 - acc: 0.9176 - val_loss: 0.2871 - val_acc: 0.9205\n",
            "Epoch 17/30\n",
            "60000/60000 [==============================] - 1s 19us/step - loss: 0.2935 - acc: 0.9181 - val_loss: 0.2861 - val_acc: 0.9193\n",
            "Epoch 18/30\n",
            "60000/60000 [==============================] - 1s 20us/step - loss: 0.2919 - acc: 0.9185 - val_loss: 0.2843 - val_acc: 0.9197\n",
            "Epoch 19/30\n",
            "60000/60000 [==============================] - 1s 19us/step - loss: 0.2901 - acc: 0.9190 - val_loss: 0.2836 - val_acc: 0.9205\n",
            "Epoch 20/30\n",
            "60000/60000 [==============================] - 1s 20us/step - loss: 0.2886 - acc: 0.9201 - val_loss: 0.2823 - val_acc: 0.9213\n",
            "Epoch 21/30\n",
            "60000/60000 [==============================] - 1s 19us/step - loss: 0.2873 - acc: 0.9197 - val_loss: 0.2828 - val_acc: 0.9204\n",
            "Epoch 22/30\n",
            "60000/60000 [==============================] - 1s 19us/step - loss: 0.2860 - acc: 0.9203 - val_loss: 0.2815 - val_acc: 0.9203\n",
            "Epoch 23/30\n",
            "60000/60000 [==============================] - 1s 19us/step - loss: 0.2848 - acc: 0.9203 - val_loss: 0.2799 - val_acc: 0.9212\n",
            "Epoch 24/30\n",
            "60000/60000 [==============================] - 1s 19us/step - loss: 0.2836 - acc: 0.9210 - val_loss: 0.2797 - val_acc: 0.9217\n",
            "Epoch 25/30\n",
            "60000/60000 [==============================] - 1s 20us/step - loss: 0.2826 - acc: 0.9212 - val_loss: 0.2791 - val_acc: 0.9221\n",
            "Epoch 26/30\n",
            "60000/60000 [==============================] - 1s 22us/step - loss: 0.2816 - acc: 0.9218 - val_loss: 0.2790 - val_acc: 0.9212\n",
            "Epoch 27/30\n",
            "60000/60000 [==============================] - 1s 23us/step - loss: 0.2806 - acc: 0.9219 - val_loss: 0.2775 - val_acc: 0.9219\n",
            "Epoch 28/30\n",
            "60000/60000 [==============================] - 1s 24us/step - loss: 0.2796 - acc: 0.9223 - val_loss: 0.2776 - val_acc: 0.9207\n",
            "Epoch 29/30\n",
            "60000/60000 [==============================] - 1s 23us/step - loss: 0.2787 - acc: 0.9228 - val_loss: 0.2769 - val_acc: 0.9209\n",
            "Epoch 30/30\n",
            "60000/60000 [==============================] - 1s 23us/step - loss: 0.2780 - acc: 0.9226 - val_loss: 0.2767 - val_acc: 0.9227\n",
            "Test loss: 0.27674613551795485\n",
            "Test accuracy: 0.9227\n",
            "[0.27674613551795485, 0.9227]\n",
            "{'val_loss': [0.4488896768569946, 0.3796961348056793, 0.35223890492916105, 0.33660303366184235, 0.32468221702575684, 0.3163820734977722, 0.310195002245903, 0.3056260127544403, 0.3019758424520493, 0.299288633441925, 0.2972369667291641, 0.29421479964256286, 0.2918995611667633, 0.29044389958381656, 0.2885158703327179, 0.2870932365655899, 0.2861231187105179, 0.2843333467245102, 0.2836210570335388, 0.28234052307605745, 0.28283716193437575, 0.2815318783044815, 0.27987543563842776, 0.2797296947956085, 0.27910459377765656, 0.2789589578986168, 0.2775089330196381, 0.2776118919968605, 0.27686737644672393, 0.27674613711833956], 'val_acc': [0.886, 0.8991, 0.9057, 0.9086, 0.9118, 0.9136, 0.916, 0.9162, 0.9164, 0.9172, 0.9183, 0.9186, 0.92, 0.9198, 0.9192, 0.9205, 0.9193, 0.9197, 0.9205, 0.9213, 0.9204, 0.9203, 0.9212, 0.9217, 0.9221, 0.9212, 0.9219, 0.9207, 0.9209, 0.9227], 'loss': [0.7131062430063884, 0.43119341449737547, 0.38526556043624877, 0.36193100930054983, 0.3470951342423757, 0.3365032509565353, 0.32856956446965535, 0.32212372296651204, 0.3168764244397481, 0.3126050773143768, 0.30864098664919537, 0.3055236460208893, 0.30255443302790325, 0.2999713699499766, 0.29756028180122374, 0.2955697769323985, 0.2935486978371938, 0.2918792067050934, 0.29009860390027364, 0.2886084075212479, 0.2872886851946513, 0.2860245455821355, 0.2847775620619456, 0.2835535759449005, 0.2826333554585775, 0.2815723799228668, 0.28059385310808815, 0.2796417159557342, 0.2787290047486623, 0.27797919761339823], 'acc': [0.8300500000317892, 0.8860666666666667, 0.8952333333333333, 0.9001, 0.9039166666984558, 0.9060500000317891, 0.9084833333015442, 0.9103166666666667, 0.9118499999682108, 0.9130999999682109, 0.9140999999682109, 0.9148833333015441, 0.9157999999682108, 0.9167166666984559, 0.9171, 0.9176499999682108, 0.9181166666666667, 0.9185333333651224, 0.919, 0.9201166666348776, 0.9197166666984559, 0.9203166666348775, 0.9202833333651225, 0.9210499999682109, 0.9212166666984558, 0.9218333333333333, 0.9219166666984558, 0.9223333333015442, 0.9227666666348775, 0.92265]}\n"
          ],
          "name": "stdout"
        },
        {
          "output_type": "display_data",
          "data": {
            "image/png": "[encoded data removed]",
            "text/plain": [
              "<Figure size 576x396 with 1 Axes>"
            ]
          },
          "metadata": {
            "tags": []
          }
        }
      ]
    }
  ]
}