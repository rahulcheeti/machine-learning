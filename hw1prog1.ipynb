{
  "nbformat": 4,
  "nbformat_minor": 0,
  "metadata": {
    "colab": {
      "name": "hw1prog1",
      "version": "0.3.2",
      "provenance": [],
      "collapsed_sections": [],
      "include_colab_link": true
    },
    "kernelspec": {
      "name": "python3",
      "display_name": "Python 3"
    },
    "accelerator": "GPU"
  },
  "cells": [
    {
      "cell_type": "markdown",
      "metadata": {
        "id": "view-in-github",
        "colab_type": "text"
      },
      "source": [
        "<a href=\"https://colab.research.google.com/github/rahulcheeti/machine-learning/blob/master/hw1prog1.ipynb\" target=\"_parent\"><img src=\"https://colab.research.google.com/assets/colab-badge.svg\" alt=\"Open In Colab\"/></a>"
      ]
    },
    {
      "metadata": {
        "id": "fZB-hwHD1I3r",
        "colab_type": "code",
        "colab": {}
      },
      "cell_type": "code",
      "source": [
        "import keras\n",
        "import numpy as np\n",
        "from keras.datasets import mnist\n",
        "import math\n",
        "\n",
        "lear_rate = 0.005\n",
        "batch_size = 8\n",
        "experiments = 100\n",
        "\n",
        "# the data, split between train and test sets\n",
        "(x_train, y_train), (x_test, y_test) = mnist.load_data()\n",
        "\n",
        "x_train = (x_train.reshape(x_train.shape[0],x_train.shape[1]*x_train.shape[2]))\n",
        "y_train = (keras.utils.to_categorical(y_train,10))\n",
        "\n",
        "x_test = (x_test.reshape(x_test.shape[0],x_test.shape[1]*x_test.shape[2]))\n",
        "y_te = y_test\n",
        "y_test = (keras.utils.to_categorical(y_test,10))\n",
        "\n",
        "x_train = x_train.astype('float32')\n",
        "x_test = x_test.astype('float32')\n",
        "x_train /= 255\n",
        "x_test /= 255\n"
      ],
      "execution_count": 0,
      "outputs": []
    },
    {
      "metadata": {
        "id": "GAU-nYDYu_GX",
        "colab_type": "code",
        "colab": {}
      },
      "cell_type": "code",
      "source": [
        "def initialize_parameters():\n",
        "  W = np.random.randn(10,784)*0.01\n",
        "  b = np.random.randn(10,1)\n",
        "  return W,b"
      ],
      "execution_count": 0,
      "outputs": []
    },
    {
      "metadata": {
        "id": "Q8oKMyM9wIty",
        "colab_type": "code",
        "colab": {}
      },
      "cell_type": "code",
      "source": [
        "def forward_propagation(W,b,x):\n",
        "  output = np.dot(W,np.transpose(x)) + (b)\n",
        "  output = sigmoid(output)\n",
        "  return output"
      ],
      "execution_count": 0,
      "outputs": []
    },
    {
      "metadata": {
        "id": "aDXpF8_wzfoi",
        "colab_type": "code",
        "colab": {}
      },
      "cell_type": "code",
      "source": [
        "def sigmoid(x): \n",
        "  z = 1/(1+np.exp(-x))\n",
        "  return z  "
      ],
      "execution_count": 0,
      "outputs": []
    },
    {
      "metadata": {
        "id": "lSJ3GZLF05P4",
        "colab_type": "code",
        "colab": {}
      },
      "cell_type": "code",
      "source": [
        "def loss_function(y_train,output,batch_size):\n",
        "  loss = np.sum(np.multiply((np.transpose(y_train) - output),(np.transpose(y_train) - output))/2,axis=1,keepdims=True)/batch_size\n",
        "  return loss"
      ],
      "execution_count": 0,
      "outputs": []
    },
    {
      "metadata": {
        "id": "YbvR3s8cO0wN",
        "colab_type": "code",
        "colab": {}
      },
      "cell_type": "code",
      "source": [
        "def backward_propagation(x_train,y_train,output,W,b,lear_rate,batch_size):\n",
        "  \n",
        "  der_loss = np.sum(-(np.transpose(y_train) - output), axis = 1, keepdims =True)/batch_size\n",
        "  der_sig = sigmoid(output)*(1 - sigmoid(output))\n",
        "  der_z = np.multiply(der_loss,der_sig)\n",
        "  der_W = np.dot(der_z,x_train)\n",
        "  der_b = np.sum(der_z,axis=1,keepdims=True)\n",
        "  W = W - lear_rate*der_W\n",
        "  b = b - lear_rate*der_b\n",
        "  return W,b"
      ],
      "execution_count": 0,
      "outputs": []
    },
    {
      "metadata": {
        "id": "1B-X6iIjzEoU",
        "colab_type": "code",
        "outputId": "0bfa8bea-77ca-4e70-bf62-d8c44058c63b",
        "colab": {
          "base_uri": "https://localhost:8080/",
          "height": 34
        }
      },
      "cell_type": "code",
      "source": [
        "W,b = initialize_parameters()\n",
        "for j in range(experiments):\n",
        "  for i in range(0, x_train.shape[0], batch_size):\n",
        "    output = forward_propagation(W,b,x_train[i:i+batch_size])\n",
        "    W,b = backward_propagation(x_train[i:i+batch_size],y_train[i:i+batch_size],output,W,b,lear_rate,batch_size)\n",
        "out = forward_propagation(W,b,x_test)\n",
        "out = np.transpose(out)\n",
        "out_list = list()\n",
        "for i in range(10000):\n",
        "  out_list.append(np.argmax(out[i]))\n",
        "count = 0\n",
        "for i in range(10000):\n",
        "  if out_list[i] == y_te[i]:\n",
        "    count += 1\n",
        "acc = count/100\n",
        "print(acc)\n",
        "\n",
        "\n"
      ],
      "execution_count": 0,
      "outputs": [
        {
          "output_type": "stream",
          "text": [
            "90.28\n"
          ],
          "name": "stdout"
        }
      ]
    }
  ]
}